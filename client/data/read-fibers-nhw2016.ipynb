{
 "cells": [
  {
   "cell_type": "code",
   "execution_count": 2,
   "metadata": {
    "collapsed": false
   },
   "outputs": [],
   "source": [
    "import nibabel as nib #pip install nibabel\n",
    "import h5py #pip install h5py\n",
    "import pandas as pd\n",
    "import matplotlib.pyplot as plt\n",
    "import numpy as np\n",
    "%matplotlib inline\n",
    "\n",
    "from scipy.spatial import ConvexHull\n",
    "import json\n",
    "from glob import glob\n",
    "import os\n",
    "\n",
    "import numpy as np\n",
    "import nibabel as nib\n",
    "from dipy.segment.clustering import QuickBundles\n",
    "from dipy.io.pickles import save_pickle"
   ]
  },
  {
   "cell_type": "code",
   "execution_count": 70,
   "metadata": {
    "collapsed": false
   },
   "outputs": [],
   "source": [
    "def get_center(streamlines):\n",
    "    centers = np.zeros([len(streamlines),3])\n",
    "    for i,sl in enumerate(streamlines):\n",
    "        #print np.mean(sl,axis=0)\n",
    "        centers[i,0] = np.mean(sl,axis=0)[0]\n",
    "        centers[i,1] = np.mean(sl,axis=0)[1]\n",
    "        centers[i,2] = np.mean(sl,axis=0)[2]\n",
    "    the_center = np.mean(centers, axis=0)\n",
    "    return the_center\n",
    "\n",
    "def center_sls(streamlines):\n",
    "    sls_centroid = get_center(streamlines)\n",
    "    newsls =[]\n",
    "    for i,sl in enumerate(streamlines):\n",
    "        newsls.append(sl-sls_centroid)\n",
    "    return newsls\n",
    "\n",
    "def execute_qb(streamlines, dist_metric, smcl=5):\n",
    "    qb = QuickBundles(threshold=dist_metric)\n",
    "    clusters = qb.cluster(streamlines)\n",
    "    print(\"Nb. clusters:\", len(clusters))\n",
    "    print(\"Cluster sizes:\", map(len, clusters))\n",
    "    print(\"N Small clusters:\", sum(clusters < smcl))\n",
    "    print(\"N Large clusters:\", sum(clusters >= smcl))\n",
    "    #print(\"Streamlines indices of the first cluster:\\n\", clusters[0].indices)\n",
    "    #print(\"Centroid of the last cluster:\\n\", clusters[-1].centroid)\n",
    "    #save_pickle('QB.pkl', clusters)\n",
    "    return clusters\n",
    "\n",
    "def get_qbparams(clusters, clszthr):\n",
    "    return sum(clusters >= clszthr)\n",
    "\n",
    "def execute_savecsv(path, clusters):\n",
    "    import csv\n",
    "    #clusters = clusters.get_large_clusters(50)\n",
    "    clusters=clusters\n",
    "    csvpath = path\n",
    "    mycsv = csv.writer(open(csvpath,\"w\"), delimiter=',')\n",
    "    mycsv.writerow(['dist_metric=', dist_metric, 'grand_tot=', len(clusters), 'tot=', len(clusters)])\n",
    "    mycsv.writerow(['track','tot_cluster', 'clusternum', 'clustersz'])\n",
    "\n",
    "    for i,cl in enumerate(clusters):\n",
    "        mycsv.writerow([trkdir.split('/')[-1], len(clusters), i, len(cl)])\n",
    "\n",
    "def savejson(clusters, savepath, bigclthr=5):\n",
    "    clusters = clusters.get_large_clusters(bigclthr)\n",
    "    # Select one of these:\n",
    "    #streamline_idx = 20\n",
    "    streamline = list(clusters[0])\n",
    "    #json_streamline = json.dumps({streamline_idx:streamline.tolist()})\n",
    "    jump_step = 5\n",
    "    json_streamlines = {}\n",
    "    json_bundles = {}\n",
    "    # loop through all fibers \n",
    "    for bundle_idx in range(len(clusters)):\n",
    "        bundle = list(clusters[bundle_idx])\n",
    "        # loop through the selected bundle and put all lines into another variable\n",
    "        for streamline_idx in range(0, len(bundle), jump_step):\n",
    "            streamline = bundle[streamline_idx]\n",
    "            streamline = streamline[1::5]\n",
    "            json_streamlines[streamline_idx] = streamline.tolist()\n",
    "\n",
    "        # then put this fiber into bundles set\n",
    "        json_bundles[bundle_idx] = json_streamlines\n",
    "        # and refresh json_streamlines\n",
    "        json_streamlines = {}\n",
    "    \n",
    "    # print (len(json_bundles))\n",
    "    # finally, write this bundles set into external file\n",
    "    with open(savepath, 'w') as outfile:\n",
    "        json.dump(json_bundles, outfile)"
   ]
  },
  {
   "cell_type": "code",
   "execution_count": 71,
   "metadata": {
    "collapsed": false
   },
   "outputs": [],
   "source": [
    "start_dist_metric = 50\n",
    "trkdir = '/Users/kjordan/Desktop/SECOND_PAPER/CCI_demo/final_1/BA_Ex_Capsule_L.trk.trk'\n",
    "trk,hdr = nib.trackvis.read(trkdir)\n",
    "streamlines = [i[0] for i in trk]"
   ]
  },
  {
   "cell_type": "code",
   "execution_count": 75,
   "metadata": {
    "collapsed": false
   },
   "outputs": [
    {
     "name": "stdout",
     "output_type": "stream",
     "text": [
      "('Nb. clusters:', 10)\n",
      "('Cluster sizes:', [2657, 1953, 1044, 89, 958, 48, 378, 580, 5, 291])\n",
      "('N Small clusters:', 0)\n",
      "('N Large clusters:', 10)\n"
     ]
    }
   ],
   "source": [
    "centered_sls = center_sls(streamlines)\n",
    "tier_0 = execute_qb(centered_sls, 31)\n",
    "savejson(tier_1,'testing.json')"
   ]
  },
  {
   "cell_type": "code",
   "execution_count": 80,
   "metadata": {
    "collapsed": false
   },
   "outputs": [
    {
     "name": "stdout",
     "output_type": "stream",
     "text": [
      "('Nb. clusters:', 13)\n",
      "('Cluster sizes:', [398, 657, 568, 23, 27, 184, 1, 13, 26, 18, 739, 1, 2])\n",
      "('N Small clusters:', 3)\n",
      "('N Large clusters:', 10)\n"
     ]
    }
   ],
   "source": [
    "tier_1 = execute_qb(list(cluster_1[0]),17)\n",
    "savejson(tier_2, 'data_partial.json')"
   ]
  },
  {
   "cell_type": "code",
   "execution_count": 84,
   "metadata": {
    "collapsed": false
   },
   "outputs": [],
   "source": [
    "def get_qbparams(clusters, clszthr):\n",
    "    return sum(clusters >= clszthr)\n",
    "def find_nbundles(streamlines, nbundles=10, initdistmetric=50):\n",
    "    dmetric_list = [initdistmetric]\n",
    "    distmetric = initdistmetric\n",
    "    bundles = execute_qb(streamlines,50)\n",
    "    Nbigcl = get_qbparams(bundles)\n",
    "    while (Nbigcl != nbundles or Nbigcl != nbundles-1):\n",
    "        if Nbigcl < nbundles:\n",
    "            distmetric += int(distmetric/2)\n",
    "            bundles = execute_qb(streamlines,50)\n",
    "            Nbigcl = get_qbparams(bundles)\n",
    "            dmetric_list.append(distmetric)\n",
    "        else:\n",
    "            distmetric -= int(distmetric/2)\n",
    "            bundles = execute_qb(streamlines,50)\n",
    "            Nbigcl = get_qbparams(bundles)\n",
    "            dmetric_list.append(distmetric)\n",
    "    return dmetric_list\n",
    "    \n",
    "    "
   ]
  },
  {
   "cell_type": "code",
   "execution_count": 85,
   "metadata": {
    "collapsed": false
   },
   "outputs": [
    {
     "name": "stdout",
     "output_type": "stream",
     "text": [
      "('Nb. clusters:', 2)\n",
      "('Cluster sizes:', [5748, 2255])\n",
      "('N Small clusters:', 0)\n",
      "('N Large clusters:', 2)\n"
     ]
    },
    {
     "ename": "TypeError",
     "evalue": "get_qbparams() takes exactly 2 arguments (1 given)",
     "output_type": "error",
     "traceback": [
      "\u001b[0;31m---------------------------------------------------------------------------\u001b[0m",
      "\u001b[0;31mTypeError\u001b[0m                                 Traceback (most recent call last)",
      "\u001b[0;32m<ipython-input-85-a63c74dcbdca>\u001b[0m in \u001b[0;36m<module>\u001b[0;34m()\u001b[0m\n\u001b[0;32m----> 1\u001b[0;31m \u001b[0mfind_nbundles\u001b[0m\u001b[0;34m(\u001b[0m\u001b[0mcentered_sls\u001b[0m\u001b[0;34m)\u001b[0m\u001b[0;34m\u001b[0m\u001b[0m\n\u001b[0m",
      "\u001b[0;32m<ipython-input-84-6a0fed21b0f5>\u001b[0m in \u001b[0;36mfind_nbundles\u001b[0;34m(streamlines, nbundles, initdistmetric)\u001b[0m\n\u001b[1;32m      5\u001b[0m     \u001b[0mdistmetric\u001b[0m \u001b[0;34m=\u001b[0m \u001b[0minitdistmetric\u001b[0m\u001b[0;34m\u001b[0m\u001b[0m\n\u001b[1;32m      6\u001b[0m     \u001b[0mbundles\u001b[0m \u001b[0;34m=\u001b[0m \u001b[0mexecute_qb\u001b[0m\u001b[0;34m(\u001b[0m\u001b[0mstreamlines\u001b[0m\u001b[0;34m,\u001b[0m\u001b[0;36m50\u001b[0m\u001b[0;34m)\u001b[0m\u001b[0;34m\u001b[0m\u001b[0m\n\u001b[0;32m----> 7\u001b[0;31m     \u001b[0mNbigcl\u001b[0m \u001b[0;34m=\u001b[0m \u001b[0mget_qbparams\u001b[0m\u001b[0;34m(\u001b[0m\u001b[0mbundles\u001b[0m\u001b[0;34m)\u001b[0m\u001b[0;34m\u001b[0m\u001b[0m\n\u001b[0m\u001b[1;32m      8\u001b[0m     \u001b[0;32mwhile\u001b[0m \u001b[0;34m(\u001b[0m\u001b[0mNbigcl\u001b[0m \u001b[0;34m!=\u001b[0m \u001b[0mnbundles\u001b[0m \u001b[0;32mor\u001b[0m \u001b[0mNbigcl\u001b[0m \u001b[0;34m!=\u001b[0m \u001b[0mnbundles\u001b[0m\u001b[0;34m-\u001b[0m\u001b[0;36m1\u001b[0m\u001b[0;34m)\u001b[0m\u001b[0;34m:\u001b[0m\u001b[0;34m\u001b[0m\u001b[0m\n\u001b[1;32m      9\u001b[0m         \u001b[0;32mif\u001b[0m \u001b[0mNbigcl\u001b[0m \u001b[0;34m<\u001b[0m \u001b[0mnbundles\u001b[0m\u001b[0;34m:\u001b[0m\u001b[0;34m\u001b[0m\u001b[0m\n",
      "\u001b[0;31mTypeError\u001b[0m: get_qbparams() takes exactly 2 arguments (1 given)"
     ]
    }
   ],
   "source": [
    "find_nbundles(centered_sls)"
   ]
  },
  {
   "cell_type": "code",
   "execution_count": null,
   "metadata": {
    "collapsed": true
   },
   "outputs": [],
   "source": []
  }
 ],
 "metadata": {
  "kernelspec": {
   "display_name": "Python 2",
   "language": "python",
   "name": "python2"
  },
  "language_info": {
   "codemirror_mode": {
    "name": "ipython",
    "version": 2
   },
   "file_extension": ".py",
   "mimetype": "text/x-python",
   "name": "python",
   "nbconvert_exporter": "python",
   "pygments_lexer": "ipython2",
   "version": "2.7.12"
  }
 },
 "nbformat": 4,
 "nbformat_minor": 0
}
